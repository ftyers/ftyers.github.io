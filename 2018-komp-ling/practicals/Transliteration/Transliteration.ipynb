{
 "cells": [
  {
   "cell_type": "markdown",
   "metadata": {},
   "source": [
    "# Dict"
   ]
  },
  {
   "cell_type": "markdown",
   "metadata": {},
   "source": [
    "Create dict from conluu file"
   ]
  },
  {
   "cell_type": "code",
   "execution_count": 1,
   "metadata": {},
   "outputs": [],
   "source": [
    "test_conllu = 'C:\\\\input\\\\ru.conllu'\n",
    "vocab_dict = {}\n",
    "with open(test_conllu, \"r\", encoding = 'utf-8') as data:\n",
    "    for line in data:\n",
    "        row = line.split('\\t')\n",
    "        if(str(row[0]).isdigit()):\n",
    "            if(row[1] in vocab_dict):\n",
    "                vocab_dict[row[1]] += 1\n",
    "            else:\n",
    "                vocab_dict[row[1]] = 1"
   ]
  },
  {
   "cell_type": "markdown",
   "metadata": {},
   "source": [
    "Trasnfer dict data to list and sort it"
   ]
  },
  {
   "cell_type": "code",
   "execution_count": 2,
   "metadata": {},
   "outputs": [],
   "source": [
    "freq = []\n",
    "\n",
    "for w in vocab_dict:\n",
    "    freq.append((vocab_dict[w], w))\n",
    "\n",
    "freq.sort(reverse=True)"
   ]
  },
  {
   "cell_type": "markdown",
   "metadata": {},
   "source": [
    "We will need ranked frequences. The best way to avoid further processing is to write sorted list into our fuile instead of dict"
   ]
  },
  {
   "cell_type": "code",
   "execution_count": 3,
   "metadata": {},
   "outputs": [],
   "source": [
    "fd = open('C:\\\\input\\\\freq_list.txt', 'w+', encoding = 'utf-8')\n",
    "for w in freq:\n",
    "    #print(vocab_dict[w], w)\n",
    "    fd.write('%d\\t%s\\n' % (w[0], w[1]))\n",
    "fd.close()"
   ]
  },
  {
   "cell_type": "markdown",
   "metadata": {},
   "source": [
    "I assume that ranking equals frequency according to the example from the task.\n",
    "That is why I think we can skip further code because our freq_list.txt file already have all tokens properly ranked"
   ]
  },
  {
   "cell_type": "markdown",
   "metadata": {},
   "source": [
    "# Transliterator"
   ]
  },
  {
   "cell_type": "markdown",
   "metadata": {},
   "source": [
    "transl.txt has table of transliterations"
   ]
  },
  {
   "cell_type": "code",
   "execution_count": 4,
   "metadata": {},
   "outputs": [],
   "source": [
    "translit_file = 'C:\\\\input\\\\transl.txt'\n",
    "translit_dict = {}\n",
    "with open(translit_file, \"r\", encoding = 'utf-8') as data:\n",
    "    for line in data:\n",
    "        row = line.split(' ')\n",
    "        translit_dict[row[0]] = row[1]"
   ]
  },
  {
   "cell_type": "markdown",
   "metadata": {},
   "source": [
    "This is our function for one word transliteration"
   ]
  },
  {
   "cell_type": "code",
   "execution_count": 5,
   "metadata": {},
   "outputs": [],
   "source": [
    "def rus_to_latin(word):\n",
    "    latin_word = ''\n",
    "    for letter in word:\n",
    "        if (letter in translit_dict):\n",
    "            latin_word += translit_dict[letter]\n",
    "        else:\n",
    "            latin_word += letter\n",
    "    return 'Translit = ' + latin_word"
   ]
  },
  {
   "cell_type": "markdown",
   "metadata": {},
   "source": [
    "go trhough conluu file and crated the data to be fritten"
   ]
  },
  {
   "cell_type": "code",
   "execution_count": 7,
   "metadata": {},
   "outputs": [],
   "source": [
    "test_conllu = 'C:\\\\input\\\\ru.conllu'\n",
    "write_lines = []\n",
    "\n",
    "with open(test_conllu, \"r\", encoding = 'utf-8') as data:\n",
    "    for line in data:\n",
    "        row = line.split('\\t')\n",
    "        \n",
    "        if(str(row[0]).isdigit()):\n",
    "            row[9] = rus_to_latin(row[1])\n",
    "            write_lines.append(row)\n",
    "        else:\n",
    "            write_lines.append(line)"
   ]
  },
  {
   "cell_type": "markdown",
   "metadata": {},
   "source": [
    "write results to file"
   ]
  },
  {
   "cell_type": "code",
   "execution_count": 8,
   "metadata": {},
   "outputs": [],
   "source": [
    "fd = open('C:\\\\input\\\\ru_modified.conllu', 'w+', encoding = 'utf-8')\n",
    "for w in write_lines:\n",
    "    if(type(w) == str):\n",
    "        fd.write('%s' % (w))\n",
    "    elif (type(w) == list):\n",
    "        for ind in range(len(w)):\n",
    "            fd.write('%s\\t' % (w[ind]))\n",
    "        fd.write('\\n')\n",
    "fd.close()"
   ]
  }
 ],
 "metadata": {
  "kernelspec": {
   "display_name": "Python 3",
   "language": "python",
   "name": "python3"
  },
  "language_info": {
   "codemirror_mode": {
    "name": "ipython",
    "version": 3
   },
   "file_extension": ".py",
   "mimetype": "text/x-python",
   "name": "python",
   "nbconvert_exporter": "python",
   "pygments_lexer": "ipython3",
   "version": "3.6.4"
  }
 },
 "nbformat": 4,
 "nbformat_minor": 2
}
