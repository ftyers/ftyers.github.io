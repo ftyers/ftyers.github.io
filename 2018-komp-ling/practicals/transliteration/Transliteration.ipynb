{
 "cells": [
  {
   "cell_type": "markdown",
   "metadata": {},
   "source": [
    "## Transliteration"
   ]
  },
  {
   "cell_type": "code",
   "execution_count": 1,
   "metadata": {},
   "outputs": [],
   "source": [
    "# Возьмем за основу приказ МВД (2010) для транслитерации имён и фамилий в загранпаспортах\n",
    "# https://ru.wikipedia.org/wiki/Транслитерация_русского_алфавита_латиницей\n",
    "russian = ['а', 'б', 'в', 'г', 'д', 'е', 'ё', 'ж', 'з', 'и', 'й', 'к', 'л', 'м', 'н', 'о', 'п', 'р', \n",
    "           'с', 'т', 'у', 'ф', 'х', 'ц', 'ч', 'ш', 'щ', 'ъ', 'ы', 'ь', 'э', 'ю', 'я', 'А', 'Б', 'В', \n",
    "           'Г', 'Д', 'Е', 'Ё', 'Ж', 'З', 'И', 'Й', 'К', 'Л', 'М', 'Н', 'О', 'П', 'Р', 'С', 'Т', \n",
    "           'У', 'Ф', 'Х', 'Ц', 'Ч', 'Ш', 'Щ', 'Э', 'Ю', 'Я', ' ', ',', '.', '!', '?']"
   ]
  },
  {
   "cell_type": "code",
   "execution_count": 2,
   "metadata": {},
   "outputs": [],
   "source": [
    "english = ['a', 'b', 'v', 'g', 'd', 'e', 'e', 'zh', 'z', 'i', 'y', 'k', 'l', 'm', 'n', 'o', 'p', \n",
    "           'r', 's', 't', 'u', 'f', 'kh', 'ts', 'ch', 'sh', 'shch', '″', 'y', '\\'', 'e', 'yu', 'ya', \n",
    "           'A', 'B', 'V', 'G', 'D', 'E', 'E', 'Zh', 'Z', 'I', 'Y', 'K', 'L', 'M', 'N', 'O', 'P', 'R', \n",
    "           'S', 'T', 'U', 'F', 'Kh', 'Ts', 'Ch', 'Sh', 'Shch', 'E', 'Yu', 'Ya', ' ', ',', '.', '!', '?']"
   ]
  },
  {
   "cell_type": "code",
   "execution_count": 3,
   "metadata": {},
   "outputs": [],
   "source": [
    "# Создадим таблицу транслитерации\n",
    "table = ''\n",
    "\n",
    "for i in range(len(russian)):\n",
    "    row = russian[i] + '\\t' + english[i] + '\\n'\n",
    "    table += row"
   ]
  },
  {
   "cell_type": "code",
   "execution_count": 4,
   "metadata": {},
   "outputs": [],
   "source": [
    "# Сохраним ее в файл\n",
    "filename = 'table.tsv'\n",
    "\n",
    "with open(filename, 'w', encoding='utf-8') as f:\n",
    "    f.write(table)"
   ]
  },
  {
   "cell_type": "code",
   "execution_count": 5,
   "metadata": {},
   "outputs": [],
   "source": [
    "# Соберем словарь для транслитерации\n",
    "with open('table.tsv', 'r', encoding='utf-8') as f:\n",
    "    lines = f.read().splitlines()\n",
    "    trans = {}\n",
    "    for line in lines:\n",
    "        row = line.split('\\t')\n",
    "        key = row[0]\n",
    "        value = row[1]\n",
    "        trans[key] = value"
   ]
  },
  {
   "cell_type": "code",
   "execution_count": 6,
   "metadata": {},
   "outputs": [
    {
     "data": {
      "text/plain": [
       "'zh'"
      ]
     },
     "execution_count": 6,
     "metadata": {},
     "output_type": "execute_result"
    }
   ],
   "source": [
    "trans['ж']"
   ]
  },
  {
   "cell_type": "code",
   "execution_count": 7,
   "metadata": {},
   "outputs": [],
   "source": [
    "text = \"Съешь ещё этих мягких французских булок, да выпей же чаю. Тёмное дерево ёлка. В Елец приехал огурец! АУЕ?\""
   ]
  },
  {
   "cell_type": "code",
   "execution_count": 8,
   "metadata": {},
   "outputs": [],
   "source": [
    "trans_text = []\n",
    "\n",
    "# Буква Е (Ё) русского алфавита транслитерируется в латинский алфавит как Ye, \n",
    "# если стоит в начале слова, после гласных и знаков Ъ и Ь. Во всех остальных случаях – как E.\n",
    "current_char = ['start']\n",
    "context_for_ye = [' ', 'а', 'о', 'и', 'е', 'ё', 'э', 'ы', 'у', 'ю', 'я', 'ъ', 'ь']\n",
    "\n",
    "for letter in text:\n",
    "    if letter in trans:\n",
    "        previous_char = current_char.pop()\n",
    "        if letter == 'е' or letter == 'ё':\n",
    "            if previous_char in context_for_ye:\n",
    "                char = 'ye'\n",
    "            else:\n",
    "                char = 'e'\n",
    "        elif letter == 'Е' or letter == 'Ё':\n",
    "            if previous_char == ' ':\n",
    "                char = 'Ye'\n",
    "            else:\n",
    "                char = 'E'\n",
    "        else:\n",
    "            char = trans[letter]\n",
    "        current_char.append(letter)\n",
    "        trans_text.append(char)\n",
    "\n",
    "output_text = ''.join(trans_text)"
   ]
  },
  {
   "cell_type": "code",
   "execution_count": 9,
   "metadata": {},
   "outputs": [
    {
     "data": {
      "text/plain": [
       "\"S″yesh' yeshche etikh myagkikh frantsuzskikh bulok, da vypey zhe chayu. Temnoye derevo yelka. V Yelets priyekhal ogurets! AUE?\""
      ]
     },
     "execution_count": 9,
     "metadata": {},
     "output_type": "execute_result"
    }
   ],
   "source": [
    "# Проверим работу алгоритма\n",
    "output_text"
   ]
  },
  {
   "cell_type": "code",
   "execution_count": null,
   "metadata": {},
   "outputs": [],
   "source": []
  }
 ],
 "metadata": {
  "kernelspec": {
   "display_name": "Python 3",
   "language": "python",
   "name": "python3"
  },
  "language_info": {
   "codemirror_mode": {
    "name": "ipython",
    "version": 3
   },
   "file_extension": ".py",
   "mimetype": "text/x-python",
   "name": "python",
   "nbconvert_exporter": "python",
   "pygments_lexer": "ipython3",
   "version": "3.7.0"
  }
 },
 "nbformat": 4,
 "nbformat_minor": 2
}
