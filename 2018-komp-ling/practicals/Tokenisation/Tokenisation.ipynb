{
 "cells": [
  {
   "cell_type": "markdown",
   "metadata": {},
   "source": [
    "# Tokenisation"
   ]
  },
  {
   "cell_type": "markdown",
   "metadata": {},
   "source": [
    "1) Downloaded train and test set of UD_Japanese-GSD\n",
    "\n",
    "2) Got forms and sentences files for both sets using recommended commands in bash\n",
    "\n",
    "\n",
    "cat ja_gsd-ud-train.conllu  | grep '^[0-9]' | cut -f2 | sort -f | uniq -c | sort -gr > forms.txt\n",
    "\n",
    "\n",
    "$ cat ~/source/UniversalDependencies/UD_Japanese-GSD/ja_gsd-ud-train.conllu | grep '# text = ' | cut -f2 -d'=' | sed 's/^ *//g'> sentences.txt. \n",
    "\n",
    "Located files to my repo file\n",
    "\n",
    "3) Created dictionatry of the forms and check all existing lengths of extracted words"
   ]
  },
  {
   "cell_type": "code",
   "execution_count": 66,
   "metadata": {
    "collapsed": true
   },
   "outputs": [],
   "source": [
    "import numpy as np"
   ]
  },
  {
   "cell_type": "code",
   "execution_count": 67,
   "metadata": {},
   "outputs": [
    {
     "name": "stdout",
     "output_type": "stream",
     "text": [
      "dictionary_length =  22313 total_lines =  161900\n"
     ]
    }
   ],
   "source": [
    "forms = \"C://mcl2018_hw1_babakov//practicals//Tokenisation//forms.txt\"\n",
    "dictionary = {}\n",
    "lines = 0\n",
    "with open(forms,'r',encoding = 'utf-8') as f: \n",
    "    for line in f:\n",
    "        lines += 1\n",
    "        if (line not in dictionary):\n",
    "            dictionary[line[:-1]] = 1\n",
    "    print('dictionary_length = ', len(dictionary), 'total_lines = ', lines)"
   ]
  },
  {
   "cell_type": "code",
   "execution_count": 68,
   "metadata": {},
   "outputs": [
    {
     "name": "stdout",
     "output_type": "stream",
     "text": [
      "info 4\n",
      "425001-435001-435501-425501 27\n",
      "22380 5\n",
      "20257/8 7\n",
      "2008-2009 9\n",
      "1447-1 6\n",
      "972 3\n",
      "673-0405 8\n",
      "99 2\n",
      "9 1\n",
      "ユーゴスラビア連邦軍 10\n",
      "福岡ソフトバンクホークス 12\n",
      "マイクロソフト株式会社 11\n",
      "voodoowedding 13\n",
      "VLCMediaPlayer 14\n",
      "UnitedMusicPublishersLtd 24\n",
      "TheMagazineofFantasy 20\n",
      "TheEmotionMachine 17\n",
      "TheCorporationoftheCityofSarnia 31\n",
      "theCHEMISTRYjointalbum 22\n",
      "TechnicalDesignReport 21\n",
      "TARGETfrontierJV 16\n",
      "TakamiyClassics 15\n",
      "PaulKantner'sWoodenship 23\n",
      "MozillaThunderbird 18\n",
      "http://en.wikipedia.org/wiki/Acute_intermittent_porphyria 57\n",
      "EnterpriseJavaBeans 19\n",
      "EconomicCommunitiyofWestAfricanStates 37\n",
      "Daisenguchistationmonument 26\n",
      "アニメポケットモンスターオリジナルサウンドトラックベスト 28\n"
     ]
    }
   ],
   "source": [
    "collected_length = []\n",
    "for name in dictionary:\n",
    "    length = len(name)\n",
    "    if (length not in collected_length):\n",
    "        print (name,length)\n",
    "        collected_length.append(length)"
   ]
  },
  {
   "cell_type": "markdown",
   "metadata": {},
   "source": [
    "4) Implement MaxMatch using recursion  and apply it to train set"
   ]
  },
  {
   "cell_type": "code",
   "execution_count": 69,
   "metadata": {},
   "outputs": [
    {
     "name": "stdout",
     "output_type": "stream",
     "text": [
      "============\n",
      " ホッケーにはデンジャラスプレーの反則があるので、膝より上にボールを浮かすことは基本的に反則になるが、その例外の一つがこのスクープである。\n",
      "\n",
      "['ホッケー', 'に', 'は', 'デンジャラスプレー', 'の', '反則', 'が', 'ある', 'ので', '、', '膝', 'より', '上', 'に', 'ボール', 'を', '浮かす', 'こと', 'は', '基本的', 'に', '反則', 'に', 'なる', 'が、', 'その', '例外', 'の', '一', 'つ', 'が', 'この', 'スクープ', 'である', '。'] \n",
      "\n",
      "============\n",
      " また行きたい、そんな気持ちにさせてくれるお店です。\n",
      "\n",
      "['また', '行き', 'たい', '、', 'そんな', '気持ち', 'に', 'させ', 'て', 'くれる', 'お', '店', 'です', '。'] \n",
      "\n",
      "============\n",
      " 手に持った特殊な刃物を使ったアクロバティックな体術や、揚羽と薄羽同様にクナイや忍具を使って攻撃してくる。\n",
      "\n",
      "['手', 'に', '持っ', 'た', '特殊', 'な', '刃物', 'を', '使っ', 'た', 'アクロバティック', 'な', '体', '術', 'や', '、', '揚羽', 'と', '薄羽', '同様', 'に', 'クナイ', 'や', '忍具', 'を', '使っ', 'て', '攻撃', 'し', 'て', 'くる', '。'] \n",
      "\n",
      "============\n",
      " 3年次にはトータルオフェンスで2,892ヤードを獲得し、これは大学記録となった。\n",
      "\n",
      "['3', '年次', 'に', 'は', 'トータルオフェンス', 'で', '2,892', 'ヤード', 'を', '獲得', 'し', '、', 'これ', 'は', '大学', '記録', 'と', 'なっ', 'た', '。'] \n",
      "\n",
      "============\n",
      " 葬儀の最中ですよ!\n",
      "\n",
      "['葬儀', 'の', '最中', 'です', 'よ', '!'] \n",
      "\n",
      "============\n",
      " 1998年度に着手し、道の駅遠山郷北側からかぐら大橋南詰現道交点までの1.060 kmのみ開通済み。\n",
      "\n",
      "['1998', '年度', 'に', '着手', 'し', '、', '道', 'の', '駅', '遠山郷', '北', '側', 'から', 'かぐら', '大橋', '南', '詰', '現道', '交点', 'まで', 'の', '1.060', 'km', 'のみ', '開通', '済み', '。'] \n",
      "\n",
      "============\n",
      " そして、第40話でそのカオルと百子をも失い、完全に孤児になってゲンとともに美山家に身を寄せ、またゲンに連れ添って円盤生物を調査するパートナーとなる。\n",
      "\n",
      "['そして', '、', '第', '40', '話', 'で', 'その', 'カオル', 'と', '百子', 'を', 'も', '失い', '、', '完全', 'に', '孤児', 'に', 'なっ', 'て', 'ゲン', 'とともに', '美', '山家', 'に', '身', 'を', '寄せ', '、', 'また', 'ゲン', 'に', '連れ添っ', 'て', '円盤', '生物', 'を', '調査', 'する', 'パートナー', 'と', 'なる', '。'] \n",
      "\n",
      "============\n",
      " 一般的な層流翼型と比べ負圧中心が前進し、圧力勾配はなだらかである。\n",
      "\n",
      "['一般的', 'な', '層流', '翼', '型', 'と', '比べ', '負', '圧', '中心', 'が', '前進', 'し', '、', '圧力', '勾配', 'は', 'なだらか', 'である', '。'] \n",
      "\n",
      "============\n",
      " 一直線に伸びる電撃を放ち、電撃ダメージを与える。\n",
      "\n",
      "['一', '直線', 'に', '伸びる', '電撃', 'を', '放ち', '、', '電撃', 'ダメージ', 'を', '与える', '。'] \n",
      "\n",
      "============\n",
      " 配属されて最初の1カ月こそ「親切な先輩に恵まれてラッキーだな」と思ったものの、その後すぐに「ちょっとおせっかいかな」と感じるようになり、半年後には「少し邪魔かも」と思い、1年後には「生産性の阻害要因だ」と確信するに至りました。\n",
      "\n",
      "['配属', 'さ', 'れ', 'て', '最初', 'の', '1', 'カ月', 'こそ', '「', '親切', 'な', '先輩', 'に', '恵まれ', 'て', 'ラッキー', 'だ', 'な', '」', 'と', '思っ', 'たも', 'の', 'の', '、', 'その後', 'すぐ', 'に', '「', 'ちょっと', 'おせっかい', 'かな', '」', 'と', '感じる', 'ように', 'なり', '、', '半年', '後', 'に', 'は', '「', '少し', '邪魔', 'か', 'も', '」', 'と', '思い', '、', '1', '年', '後', 'に', 'は', '「', '生産性', 'の', '阻害', '要因', 'だ', '」', 'と', '確信', 'する', 'に', '至り', 'まし', 'た', '。'] \n",
      "\n"
     ]
    }
   ],
   "source": [
    "def MaxMatch(line):\n",
    "    parsed_line = []\n",
    "    parsed_rest_line = []\n",
    "    line = line.replace(\" \", \"\")\n",
    "    found_dict_symb = False\n",
    "    \n",
    "    for char_index in range(len(line)-1,0,-1):\n",
    "        phrase_under_review = ''\n",
    "        phrase_under_review = line[:char_index]\n",
    "        if (phrase_under_review in dictionary):\n",
    "            parsed_line.append(phrase_under_review)\n",
    "            if(len(line[char_index:]) >= 2):\n",
    "                parsed_rest_line = MaxMatch(line[char_index:])\n",
    "                parsed_line += parsed_rest_line\n",
    "                found_dict_symb = True\n",
    "            else:#if the next is empty\n",
    "                return parsed_line\n",
    "            \n",
    "            return parsed_line \n",
    "    if (found_dict_symb == False):\n",
    "        parsed_line += line[0]\n",
    "        if(len(line) >= 2):\n",
    "            parsed_rest_line = MaxMatch(line[1:])\n",
    "        else:\n",
    "            return parsed_line \n",
    "        \n",
    "        parsed_line += parsed_rest_line\n",
    "        return parsed_line \n",
    "\n",
    "text = \"C://mcl2018_hw1_babakov//practicals//Tokenisation//sentences.txt\"\n",
    "parsed_sentences = []\n",
    "with open(text,'r',encoding = 'utf-8') as t:\n",
    "    print_count = 0 \n",
    "    for line in t:\n",
    "        parsed = MaxMatch(line)\n",
    "        if(print_count < 10):\n",
    "            print(\"============\")\n",
    "            print(line)\n",
    "            print(parsed,'\\n')\n",
    "        parsed_sentences.append(parsed)\n",
    "        print_count += 1"
   ]
  },
  {
   "cell_type": "markdown",
   "metadata": {},
   "source": [
    "5) Apply to test set"
   ]
  },
  {
   "cell_type": "code",
   "execution_count": 70,
   "metadata": {},
   "outputs": [
    {
     "name": "stdout",
     "output_type": "stream",
     "text": [
      "============\n",
      "﻿これに不快感を示す住民はいましたが,現在,表立って反対や抗議の声を挙げている住民はいないようです。\n",
      "\n",
      "['\\ufeff', 'これ', 'に', '不快', '感', 'を', '示す', '住民', 'は', 'いま', 'し', 'たが', ',', '現在', ',', '表', '立っ', 'て', '反対', 'や', '抗議', 'の', '声', 'を', '挙げて', 'いる', '住民', 'は', 'い', 'ない', 'ようで', 'す', '。'] \n",
      "\n",
      "============\n",
      "幸福の科学側からは,特にどうしてほしいという要望はいただいていません。\n",
      "\n",
      "['幸福', 'の', '科学', '側', 'から', 'は', ',', '特に', 'どうして', 'ほしい', 'という', '要望', 'は', 'いただい', 'て', 'いま', 'せ', 'ん', '。'] \n",
      "\n",
      "============\n",
      "星取り参加は当然とされ,不参加は白眼視される。\n",
      "\n",
      "['星', '取り', '参加', 'は', '当然', 'と', 'さ', 'れ', ',', '不', '参加', 'は', '白', '眼', '視', 'さ', 'れる', '。'] \n",
      "\n",
      "============\n",
      "室長の対応には終始誠実さが感じられた。\n",
      "\n",
      "['室長', 'の', '対応', 'に', 'は', '終始', '誠実', 'さ', 'が', '感じ', 'られ', 'た', '。'] \n",
      "\n",
      "============\n",
      "多くの女性が生理のことで悩んでいます。\n",
      "\n",
      "['多く', 'の', '女性', 'が', '生', '理', 'の', 'こと', 'で', '悩ん', 'で', 'いま', 'す', '。'] \n",
      "\n",
      "============\n",
      "先生の理想は限りなく高い。\n",
      "\n",
      "['先生', 'の', '理想', 'は', '限り', 'なく', '高い', '。'] \n",
      "\n",
      "============\n",
      "それは兎も角,私も明日の社説を楽しみにしております。\n",
      "\n",
      "['それ', 'は', '兎', 'も', '角', ',', '私', 'も', '明日', 'の', '社', '説', 'を', '楽しみ', 'に', 'し', 'て', 'おり', 'ます', '。'] \n",
      "\n",
      "============\n",
      "そうだったらいいなあとは思いますが,日本学術会議の会長談話について“当会では,標記の件について,以下のように考えます。”\n",
      "\n",
      "['そうだっ', 'たら', 'いい', 'なあ', 'と', 'は', '思い', 'ます', 'が', ',', '日本学術会議', 'の', '会長', '談', '話', 'について', '“', '当', '会', 'では', ',', '標記', 'の', '件', 'について', ',', '以下', 'のよ', 'う', 'に', '考え', 'ます', '。', '”'] \n",
      "\n",
      "============\n",
      "教団にとっては存続が厳しくなると思う。\n",
      "\n",
      "['教団', 'にとって', 'は', '存続', 'が', '厳しく', 'なる', 'と', '思う', '。'] \n",
      "\n",
      "============\n",
      "しかし強制していなくても問題です\n",
      "\n",
      "['しかし', '強制', 'し', 'て', 'い', 'なく', 'て', 'も', '問題', 'です'] \n",
      "\n"
     ]
    }
   ],
   "source": [
    "text = \"C://mcl2018_hw1_babakov//practicals//Tokenisation//sentence_test.txt\"\n",
    "parsed_sentences_test = []\n",
    "with open(text,'r',encoding = 'utf-8') as t:\n",
    "    print_count = 0 \n",
    "    for line in t:\n",
    "        parsed = MaxMatch(line)\n",
    "        if(print_count < 10):\n",
    "            print(\"============\")\n",
    "            print(line)\n",
    "            print(parsed,'\\n')\n",
    "        parsed_sentences_test.append(parsed)\n",
    "        print_count += 1"
   ]
  },
  {
   "cell_type": "markdown",
   "metadata": {},
   "source": [
    "6) Write results to txt"
   ]
  },
  {
   "cell_type": "code",
   "execution_count": 65,
   "metadata": {
    "collapsed": true
   },
   "outputs": [],
   "source": [
    "with open(\"C://mcl2018_hw1_babakov//practicals//Tokenisation//sentence_test_parsed.txt\", 'w',encoding = 'utf-8') as f:\n",
    "    for t in parsed_sentences_test:\n",
    "        f.write(' '.join(str(s) for s in t) + '\\n')"
   ]
  },
  {
   "cell_type": "markdown",
   "metadata": {},
   "source": [
    "7) Extract correctly tokenized test text for further evaluation"
   ]
  },
  {
   "cell_type": "code",
   "execution_count": 73,
   "metadata": {
    "scrolled": false
   },
   "outputs": [
    {
     "name": "stdout",
     "output_type": "stream",
     "text": [
      "found text  これに不快感を示す住民はいましたが,現在,表立って反対や抗議の声を挙げている住民はいないようです。\n",
      "['これ', 'に', '不快感', 'を', '示す', '住民', 'は', 'い', 'まし', 'た', 'が', ',', '現在', ',', '表立っ', 'て', '反対', 'や', '抗議', 'の', '声', 'を', '挙げ', 'て', 'いる', '住民', 'は', 'い', 'ない', 'よう', 'です', '。']\n",
      "found text  幸福の科学側からは,特にどうしてほしいという要望はいただいていません。\n",
      "['幸福', 'の', '科学', '側', 'から', 'は', ',', '特に', 'どうして', 'ほしい', 'という', '要望', 'は', 'いただい', 'て', 'い', 'ませ', 'ん', '。']\n",
      "found text  星取り参加は当然とされ,不参加は白眼視される。\n",
      "['星取り', '参加', 'は', '当然', 'と', 'さ', 'れ', ',', '不', '参加', 'は', '白眼視', 'さ', 'れる', '。']\n",
      "found text  室長の対応には終始誠実さが感じられた。\n",
      "['室長', 'の', '対応', 'に', 'は', '終始', '誠実', 'さ', 'が', '感じ', 'られ', 'た', '。']\n",
      "found text  多くの女性が生理のことで悩んでいます。\n",
      "['多く', 'の', '女性', 'が', '生理', 'の', 'こと', 'で', '悩ん', 'で', 'い', 'ます', '。']\n",
      "found text  先生の理想は限りなく高い。\n",
      "['先生', 'の', '理想', 'は', '限りなく', '高い', '。']\n",
      "found text  それは兎も角,私も明日の社説を楽しみにしております。\n",
      "['それ', 'は', '兎', 'も', '角', ',', '私', 'も', '明日', 'の', '社説', 'を', '楽しみ', 'に', 'し', 'て', 'おり', 'ます', '。']\n",
      "found text  そうだったらいいなあとは思いますが,日本学術会議の会長談話について“当会では,標記の件について,以下のように考えます。”\n",
      "['そう', 'だっ', 'たら', 'いい', 'なあ', 'と', 'は', '思い', 'ます', 'が', ',', '日本学術会議', 'の', '会長', '談話', 'について', '“', '当', '会', 'で', 'は', ',', '標記', 'の', '件', 'について', ',', '以下', 'の', 'ように', '考え', 'ます', '。', '”']\n",
      "found text  教団にとっては存続が厳しくなると思う。\n",
      "['教団', 'にとって', 'は', '存続', 'が', '厳しく', 'なる', 'と', '思う', '。']\n",
      "found text  しかし強制していなくても問題です\n",
      "['しかし', '強制', 'し', 'て', 'い', 'なく', 'て', 'も', '問題', 'です']\n"
     ]
    }
   ],
   "source": [
    "test_conllu = \"C://mcl2018_hw1_babakov//practicals//Tokenisation//ja_gsd-ud-test.conllu\"\n",
    "parsed_file = []\n",
    "print_count = 0\n",
    "with open(test_conllu, \"r\", encoding = 'utf-8') as data:\n",
    "    parsed_sentence = [] \n",
    "    for line in data:\n",
    "        row = line.split('\\t')\n",
    "        if('# text =' in row[0] and print_count < 10):\n",
    "            print('found text', row[0][8:-1])\n",
    "        if(str(row[0]).isdigit()):\n",
    "            parsed_sentence.append(row[1])\n",
    "        else:\n",
    "            if parsed_sentence:\n",
    "                parsed_file.append(parsed_sentence)\n",
    "                if (print_count < 10):\n",
    "                    print(parsed_sentence)\n",
    "                    print_count += 1\n",
    "            parsed_sentence = []\n",
    "            "
   ]
  },
  {
   "cell_type": "markdown",
   "metadata": {},
   "source": [
    "8) Write results to sentences_test_correctly_parsed.txt"
   ]
  },
  {
   "cell_type": "code",
   "execution_count": 17,
   "metadata": {
    "collapsed": true
   },
   "outputs": [],
   "source": [
    "with open(\"C://mcl2018_hw1_babakov//practicals//Tokenisation//sentences_test_correctly_parsed.txt\", 'w',encoding = 'utf-8') as f:\n",
    "    for t in parsed_file:\n",
    "        f.write(' '.join(str(s) for s in t) + '\\n')"
   ]
  },
  {
   "cell_type": "markdown",
   "metadata": {},
   "source": [
    "9) Demonstrate incorrectly parsed sentences"
   ]
  },
  {
   "cell_type": "code",
   "execution_count": 39,
   "metadata": {},
   "outputs": [
    {
     "data": {
      "text/plain": [
       "'test'"
      ]
     },
     "execution_count": 39,
     "metadata": {},
     "output_type": "execute_result"
    }
   ],
   "source": [
    "#It turned out that some sentences have whitespace in the beginning. that is why I decided to implement this function\n",
    "def delete_first_whitespace(line):\n",
    "    ind = 0 \n",
    "    while (line[ind] == ' '):\n",
    "        ind += 1\n",
    "    return line [ind:]\n",
    "    \n",
    "delete_first_whitespace('   test')"
   ]
  },
  {
   "cell_type": "code",
   "execution_count": 48,
   "metadata": {},
   "outputs": [
    {
     "name": "stdout",
     "output_type": "stream",
     "text": [
      "['\\ufeff', 'これ', 'に', '不快', '感', 'を', '示す', '住民', 'は', 'いま', 'し', 'たが', ',', '現在', ',', '表', '立っ', 'て', '反対', 'や', '抗議', 'の', '声', 'を', '挙げて', 'いる', '住民', 'は', 'い', 'ない', 'ようで', 'す', '。']\n",
      "['これ', 'に', '不快感', 'を', '示す', '住民', 'は', 'い', 'まし', 'た', 'が', ',', '現在', ',', '表立っ', 'て', '反対', 'や', '抗議', 'の', '声', 'を', '挙げ', 'て', 'いる', '住民', 'は', 'い', 'ない', 'よう', 'です', '。']\n",
      "Incorrectly parsed line found\n",
      "{'ようで', 'し', 'たが', '感', '挙げて', '\\ufeff', 'いま', '不快', '立っ', 'す', '表'} \n",
      "\n",
      "['幸福', 'の', '科学', '側', 'から', 'は', ',', '特に', 'どうして', 'ほしい', 'という', '要望', 'は', 'いただい', 'て', 'いま', 'せ', 'ん', '。']\n",
      "['幸福', 'の', '科学', '側', 'から', 'は', ',', '特に', 'どうして', 'ほしい', 'という', '要望', 'は', 'いただい', 'て', 'い', 'ませ', 'ん', '。']\n",
      "Incorrectly parsed line found\n",
      "{'いま', 'せ'} \n",
      "\n",
      "['星', '取り', '参加', 'は', '当然', 'と', 'さ', 'れ', ',', '不', '参加', 'は', '白', '眼', '視', 'さ', 'れる', '。']\n",
      "['星取り', '参加', 'は', '当然', 'と', 'さ', 'れ', ',', '不', '参加', 'は', '白眼視', 'さ', 'れる', '。']\n",
      "Incorrectly parsed line found\n",
      "{'白', '視', '取り', '星', '眼'} \n",
      "\n",
      "['多く', 'の', '女性', 'が', '生', '理', 'の', 'こと', 'で', '悩ん', 'で', 'いま', 'す', '。']\n",
      "['多く', 'の', '女性', 'が', '生理', 'の', 'こと', 'で', '悩ん', 'で', 'い', 'ます', '。']\n",
      "Incorrectly parsed line found\n",
      "{'す', 'いま', '理', '生'} \n",
      "\n",
      "['先生', 'の', '理想', 'は', '限り', 'なく', '高い', '。']\n",
      "['先生', 'の', '理想', 'は', '限りなく', '高い', '。']\n",
      "Incorrectly parsed line found\n",
      "{'なく', '限り'} \n",
      "\n",
      "['それ', 'は', '兎', 'も', '角', ',', '私', 'も', '明日', 'の', '社', '説', 'を', '楽しみ', 'に', 'し', 'て', 'おり', 'ます', '。']\n",
      "['それ', 'は', '兎', 'も', '角', ',', '私', 'も', '明日', 'の', '社説', 'を', '楽しみ', 'に', 'し', 'て', 'おり', 'ます', '。']\n",
      "Incorrectly parsed line found\n",
      "{'説', '社'} \n",
      "\n",
      "['そうだっ', 'たら', 'いい', 'なあ', 'と', 'は', '思い', 'ます', 'が', ',', '日本学術会議', 'の', '会長', '談', '話', 'について', '“', '当', '会', 'では', ',', '標記', 'の', '件', 'について', ',', '以下', 'のよ', 'う', 'に', '考え', 'ます', '。', '”']\n",
      "['そう', 'だっ', 'たら', 'いい', 'なあ', 'と', 'は', '思い', 'ます', 'が', ',', '日本学術会議', 'の', '会長', '談話', 'について', '“', '当', '会', 'で', 'は', ',', '標記', 'の', '件', 'について', ',', '以下', 'の', 'ように', '考え', 'ます', '。', '”']\n",
      "Incorrectly parsed line found\n",
      "{'そうだっ', '話', 'では', 'に', 'う', '談', 'のよ'} \n",
      "\n",
      "['民族', '派', 'のみ', 'なさ', 'ん', 'にとって', '陛下', 'は', 'いちばん', '大切', 'な', '方', 'です', 'から', ',', 'その', '_', '霊言', 'について', '“', 'あり', '得', 'ない', '”と', 'いう', '前提', 'で', 'お', '話', 'を', 'さ', 'れる', '。']\n",
      "['民族派', 'の', 'みなさん', 'にとって', '陛下', 'は', 'いちばん', '大切', 'な', '方', 'です', 'から', ',', 'その', '_', '霊言', 'について', '“', 'あり', '得', 'ない', '”', 'という', '前提', 'で', 'お', '話', 'を', 'さ', 'れる', '。']\n",
      "Incorrectly parsed line found\n",
      "{'民族', '”と', 'のみ', 'ん', '派', 'いう', 'なさ'} \n",
      "\n",
      "['新しい', '産業', '構造', 'を', '作ら', 'なければ', 'いけ', 'ない', '。']\n",
      "['新しい', '産業構造', 'を', '作ら', 'なければ', 'いけ', 'ない', '。']\n",
      "Incorrectly parsed line found\n",
      "{'構造', '産業'} \n",
      "\n",
      "['心', 'が', 'ない', 'んだ', '。']\n",
      "['心', 'が', 'ない', 'ん', 'だ', '。']\n",
      "Incorrectly parsed line found\n",
      "{'んだ'} \n",
      "\n"
     ]
    }
   ],
   "source": [
    "sentences_parsed = \"C://mcl2018_hw1_babakov//practicals//Tokenisation//sentence_test_parsed.txt\"\n",
    "coorect_parssed = \"C://mcl2018_hw1_babakov//practicals//Tokenisation//sentences_test_correctly_parsed.txt\"\n",
    "with open(sentences_parsed, \"r\", encoding = 'utf-8') as textfile1, open(coorect_parssed, \"r\", encoding = 'utf-8') as textfile2: \n",
    "    print_count = 0 \n",
    "    for x, y in zip(textfile1, textfile2):\n",
    "        #get rid of whitespaces in front\n",
    "        x = delete_first_whitespace(x)\n",
    "        y = delete_first_whitespace(y)\n",
    "        #get list of tokenized words\n",
    "        x = x.split()\n",
    "        y = y.split()\n",
    "        if( x != y and print_count < 10):\n",
    "            print_count += 1\n",
    "            print(x)\n",
    "            print(y)\n",
    "            print(\"Incorrectly parsed line found\")\n",
    "            print ((set(x) - set(y)), '\\n')\n",
    "            "
   ]
  },
  {
   "cell_type": "markdown",
   "metadata": {},
   "source": [
    "10) Try to evaluate results using WER in python but faced some problems and report them here according to instructions from telegram\n",
    "\n",
    "\n",
    "I did like that \n",
    "\n",
    "\n",
    "python wer.py sentences_test_correctly_parsed.txt sentence_test_parsed.txt\n",
    "\n",
    "\n",
    "But process didnt want to stop. that is why I put some prints to the file and saved it as wer_logged.py\n",
    "\n",
    "python wer_logged.py sentences_test_correctly_parsed.txt sentence_test_parsed.txt\n",
    "\n",
    "\n",
    "This let me know that editDistance function of the script goes into endless loop, so I have not been able to evaluate toenization quality using given tool. "
   ]
  }
 ],
 "metadata": {
  "kernelspec": {
   "display_name": "Python 3",
   "language": "python",
   "name": "python3"
  },
  "language_info": {
   "codemirror_mode": {
    "name": "ipython",
    "version": 3
   },
   "file_extension": ".py",
   "mimetype": "text/x-python",
   "name": "python",
   "nbconvert_exporter": "python",
   "pygments_lexer": "ipython3",
   "version": "3.6.2"
  }
 },
 "nbformat": 4,
 "nbformat_minor": 2
}
