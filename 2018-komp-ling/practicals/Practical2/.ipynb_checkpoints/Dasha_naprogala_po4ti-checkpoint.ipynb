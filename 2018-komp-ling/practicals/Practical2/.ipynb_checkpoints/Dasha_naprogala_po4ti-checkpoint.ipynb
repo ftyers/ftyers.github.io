{
 "cells": [
  {
   "cell_type": "code",
   "execution_count": 33,
   "metadata": {},
   "outputs": [],
   "source": [
    "def clear_data(directory):   \n",
    "    ud_rus_sents=open(directory, 'r', encoding='utf-8').read().split('\\n\\n')\n",
    "    parsed_data=[]\n",
    "    for sent in ud_rus_sents:\n",
    "        ud_rus = sent.split('\\n')\n",
    "        clear_sentence= []\n",
    "        for line in ud_rus:\n",
    "            line_s=line.split('\\t')\n",
    "            for word in line_s:\n",
    "                if len(line_s) > 2:\n",
    "                    line_s[2:] = ('-'*8)\n",
    "            clear_sentence.append(line_s)\n",
    "        parsed_data.append(clear_sentence)\n",
    "    return parsed_data\n",
    "clear_data = clear_data('ud_russian.txt')"
   ]
  },
  {
   "cell_type": "code",
   "execution_count": 34,
   "metadata": {},
   "outputs": [],
   "source": [
    "def prepare_symb_dict(direc):    \n",
    "    transdict = []\n",
    "    transl = open(direc, 'r', encoding = 'utf-8').read().split('\\n')\n",
    "    for line in transl[:-1]:\n",
    "        let, let_tr = line.split('\\t')\n",
    "        transdict.append((let, let_tr))\n",
    "    transdict = dict(transdict)\n",
    "    return transdict\n",
    "transdict = prepare_symb_dict('transl.txt')"
   ]
  },
  {
   "cell_type": "code",
   "execution_count": 35,
   "metadata": {},
   "outputs": [
    {
     "data": {
      "text/plain": [
       "[['# sent_id = 2003Armeniya.xml_11'],\n",
       " ['# text = В городах открывались школы, появлялись промышленные предприятия.'],\n",
       " ['1', 'В', '-', '-', '-', '-', '-', '-', '-', 'V'],\n",
       " ['2', 'городах', '-', '-', '-', '-', '-', '-', '-', 'gorodakh'],\n",
       " ['3', 'открывались', '-', '-', '-', '-', '-', '-', '-', \"otkryvalis'\"],\n",
       " ['4', 'школы', '-', '-', '-', '-', '-', '-', '-', 'shkoly'],\n",
       " ['5', ',', '-', '-', '-', '-', '-', '-', '-', ','],\n",
       " ['6', 'появлялись', '-', '-', '-', '-', '-', '-', '-', \"poyavlyalis'\"],\n",
       " ['7', 'промышленные', '-', '-', '-', '-', '-', '-', '-', 'promyshlennye'],\n",
       " ['8', 'предприятия', '-', '-', '-', '-', '-', '-', '-', 'predpriyatiya'],\n",
       " ['9', '.', '-', '-', '-', '-', '-', '-', '-', '.']]"
      ]
     },
     "execution_count": 35,
     "metadata": {},
     "output_type": "execute_result"
    }
   ],
   "source": [
    "def trans_sent(k):\n",
    "    sent = k\n",
    "    for line in sent[2:]:\n",
    "        translit=''\n",
    "        for symbol in line[1]:\n",
    "            if symbol in transdict:\n",
    "                translit+=transdict[symbol]\n",
    "            else:\n",
    "                translit += symbol\n",
    "        if len(translit)!=0 and translit[0]=='e' :\n",
    "            translit='y'+translit\n",
    "        if len(translit)!=0 and translit[0]=='E':\n",
    "            translit='Y'+translit\n",
    "        line[-1] = translit\n",
    "    return sent\n",
    "data = []\n",
    "for sentence in parsed_data:\n",
    "    data.append(trans_sent(sentence))\n",
    "data[10]"
   ]
  },
  {
   "cell_type": "code",
   "execution_count": null,
   "metadata": {},
   "outputs": [],
   "source": []
  },
  {
   "cell_type": "code",
   "execution_count": null,
   "metadata": {},
   "outputs": [],
   "source": []
  }
 ],
 "metadata": {
  "kernelspec": {
   "display_name": "Python 3",
   "language": "python",
   "name": "python3"
  },
  "language_info": {
   "codemirror_mode": {
    "name": "ipython",
    "version": 3
   },
   "file_extension": ".py",
   "mimetype": "text/x-python",
   "name": "python",
   "nbconvert_exporter": "python",
   "pygments_lexer": "ipython3",
   "version": "3.7.0"
  }
 },
 "nbformat": 4,
 "nbformat_minor": 2
}
