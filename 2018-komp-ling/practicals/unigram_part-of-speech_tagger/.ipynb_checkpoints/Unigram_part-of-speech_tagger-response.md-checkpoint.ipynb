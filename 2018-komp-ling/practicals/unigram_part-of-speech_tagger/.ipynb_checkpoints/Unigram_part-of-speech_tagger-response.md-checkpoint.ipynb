{
 "cells": [
  {
   "cell_type": "markdown",
   "metadata": {},
   "source": [
    "### Regular expressions"
   ]
  },
  {
   "cell_type": "code",
   "execution_count": 2,
   "metadata": {},
   "outputs": [
    {
     "data": {
      "text/plain": [
       "<re.Match object; span=(7, 10), match='мир'>"
      ]
     },
     "execution_count": 2,
     "metadata": {},
     "output_type": "execute_result"
    }
   ],
   "source": [
    "import re \n",
    "s = 'Привет мир!'\n",
    "re.search(r'м[а-я]+', s)"
   ]
  },
  {
   "cell_type": "code",
   "execution_count": 2,
   "metadata": {},
   "outputs": [
    {
     "data": {
      "text/plain": [
       "'мир'"
      ]
     },
     "execution_count": 2,
     "metadata": {},
     "output_type": "execute_result"
    }
   ],
   "source": [
    "m = re.search(r'м[а-я]+', s)\n",
    "m.group()"
   ]
  },
  {
   "cell_type": "code",
   "execution_count": 3,
   "metadata": {},
   "outputs": [
    {
     "data": {
      "text/plain": [
       "(7, 10)"
      ]
     },
     "execution_count": 3,
     "metadata": {},
     "output_type": "execute_result"
    }
   ],
   "source": [
    "m.span()"
   ]
  },
  {
   "cell_type": "code",
   "execution_count": 4,
   "metadata": {},
   "outputs": [
    {
     "data": {
      "text/plain": [
       "'Пxxxxx xxx!'"
      ]
     },
     "execution_count": 4,
     "metadata": {},
     "output_type": "execute_result"
    }
   ],
   "source": [
    "re.sub('[а-я]', 'x', s)"
   ]
  },
  {
   "cell_type": "markdown",
   "metadata": {},
   "source": [
    "### Libraries and modules in Python"
   ]
  },
  {
   "cell_type": "code",
   "execution_count": 6,
   "metadata": {},
   "outputs": [],
   "source": [
    "%matplotlib inline "
   ]
  },
  {
   "cell_type": "code",
   "execution_count": 7,
   "metadata": {
    "scrolled": true
   },
   "outputs": [
    {
     "data": {
      "image/png": "[encoded data removed]",
      "text/plain": [
       "<Figure size 432x288 with 1 Axes>"
      ]
     },
     "metadata": {
      "needs_background": "light"
     },
     "output_type": "display_data"
    }
   ],
   "source": [
    "import sys\n",
    "import matplotlib.pyplot as plt\n",
    "\n",
    "x = []\n",
    "y = []\n",
    "\n",
    "fd = open('ranks.txt', 'r')\n",
    "for line in fd.readlines():\n",
    "        line = line.strip()\n",
    "        if line == '':\n",
    "                continue\n",
    "\n",
    "        row = line.split('\\t')\n",
    "        x.append(int(row[0]))\n",
    "        y.append(int(row[1]))\n",
    "\n",
    "plt.plot(x, y, 'ro')\n",
    "plt.show()"
   ]
  },
  {
   "cell_type": "markdown",
   "metadata": {},
   "source": [
    "### ElementTree"
   ]
  },
  {
   "cell_type": "code",
   "execution_count": 9,
   "metadata": {},
   "outputs": [],
   "source": [
    "import xml.etree.ElementTree as ET\n",
    "\n",
    "tree = ET.parse('isl-ex.xml')"
   ]
  },
  {
   "cell_type": "code",
   "execution_count": 10,
   "metadata": {},
   "outputs": [
    {
     "data": {
      "text/plain": [
       "<xml.etree.ElementTree.ElementTree at 0x7fc9404d62e8>"
      ]
     },
     "execution_count": 10,
     "metadata": {},
     "output_type": "execute_result"
    }
   ],
   "source": [
    "tree"
   ]
  },
  {
   "cell_type": "code",
   "execution_count": 11,
   "metadata": {},
   "outputs": [],
   "source": [
    "root = tree.getroot()"
   ]
  },
  {
   "cell_type": "code",
   "execution_count": 13,
   "metadata": {},
   "outputs": [
    {
     "name": "stdout",
     "output_type": "stream",
     "text": [
      "xigt-corpus\n"
     ]
    }
   ],
   "source": [
    "print(root.tag)"
   ]
  },
  {
   "cell_type": "code",
   "execution_count": 14,
   "metadata": {},
   "outputs": [
    {
     "name": "stdout",
     "output_type": "stream",
     "text": [
      "(Þau) Jón og María eru vinir.\n",
      "they.NEUT Jón og María are friends\n",
      "Jón and María are friends.\n"
     ]
    }
   ],
   "source": [
    "for tier in root.findall('.//tier'):\n",
    "        if tier.attrib['id'] == 'n':\n",
    "                for item in tier.findall('.//item'):\n",
    "                        print(item.text)"
   ]
  },
  {
   "cell_type": "markdown",
   "metadata": {},
   "source": [
    "To get just the Icelandic line and the gloss line we can filter by tag:"
   ]
  },
  {
   "cell_type": "code",
   "execution_count": 16,
   "metadata": {},
   "outputs": [
    {
     "name": "stdout",
     "output_type": "stream",
     "text": [
      "(Þau) Jón og María eru vinir.\n",
      "they.NEUT Jón og María are friends\n"
     ]
    }
   ],
   "source": [
    "for tier in root.findall('.//tier'):\n",
    "        if tier.attrib['id'] == 'n':\n",
    "                for item in tier.findall('.//item'):\n",
    "                    if item.attrib['tag'] != 'T': \n",
    "                        print(item.text)"
   ]
  },
  {
   "cell_type": "markdown",
   "metadata": {},
   "source": [
    "#### scikit learn"
   ]
  },
  {
   "cell_type": "markdown",
   "metadata": {},
   "source": [
    "Let's create ```pronuncation.py```, where data is splitted into train and test parts:"
   ]
  },
  {
   "cell_type": "markdown",
   "metadata": {},
   "source": [
    "```data_train, data_test, label_train, label_test, words_train, words_test = train_test_split(data, labels, words, test_size=0.5)```"
   ]
  },
  {
   "cell_type": "markdown",
   "metadata": {},
   "source": [
    "accuracy is 0.9955 - almost 1"
   ]
  },
  {
   "cell_type": "markdown",
   "metadata": {},
   "source": [
    "Let's look at the wrong classified words and the nearest letters' characteristics. Add temporary code to ```pronunciation.py```:"
   ]
  },
  {
   "cell_type": "code",
   "execution_count": 51,
   "metadata": {},
   "outputs": [
    {
     "name": "stdout",
     "output_type": "stream",
     "text": [
      "- 0 ('#любовь#', '[lʲʊˈbofʲ]', 1) [1, 0, 0, 0, 0, 0, 0, 0]\n",
      "- 0 ('#обувь#', '[ˈobʊfʲ]', 1) [1, 0, 0, 0, 0, 0, 0, 0]\n",
      "- 0 ('#церковь#', '[ˈt͡sɛrkəfʲ]', 1) [1, 0, 0, 0, 0, 0, 0, 0]\n",
      "- 0 ('#кровь#', '[krofʲ]', 1) [1, 0, 0, 0, 0, 0, 0, 0]\n",
      "- 0 ('#червь#', '[t͡ɕerfʲ]', 1) [0, 0, 0, 0, 0, 0, 0, 0]\n",
      "- 0 ('#бровь#', '[brofʲ]', 1) [1, 0, 0, 0, 0, 0, 0, 0]\n"
     ]
    }
   ],
   "source": [
    "for i in range(0, len(words_test)):\n",
    "    if result[i] != words_test[i][2]:\n",
    "        print('-', result[i], words_test[i], data_test[i])"
   ]
  },
  {
   "cell_type": "markdown",
   "metadata": {},
   "source": [
    "All of them have 'ь#' after the target letter and are pronounced like /f/. But the feature set is the same for found words and words like \"активность\". The desicion is to mark 'в' which is followed by 'ь#' as 'в#', because 'ь' doesn't affect the consonant devoicing at the end of the word."
   ]
  },
  {
   "cell_type": "markdown",
   "metadata": {},
   "source": [
    "### Screenscraping"
   ]
  },
  {
   "cell_type": "markdown",
   "metadata": {},
   "source": [
    "Fixed script ```wiktionary.py``` works such a way:\n",
    "\n",
    "```bash\n",
    "$ cat дерево.html | python3 wiktionary.py\n",
    " -дерев-\t1a^\tˈdʲerʲɪvə```\n",
    "\n",
    "symbol ^ marks special cases of inflection.\n",
    "It also works for \"страх\":\n",
    "\n",
    "```bash\n",
    "$ cat страх.html | python3 wiktionary.py\n",
    " -страх-.\t3a\tstrax\n",
    "```"
   ]
  },
  {
   "cell_type": "markdown",
   "metadata": {},
   "source": [
    "### Unigram tagger"
   ]
  },
  {
   "cell_type": "markdown",
   "metadata": {},
   "source": [
    "```tagger.py``` uses language model from previous practical to tag the text in .conllu file. Input is saved in *input.conllu*, output - in *output.conllu*"
   ]
  },
  {
   "cell_type": "markdown",
   "metadata": {},
   "source": [
    "```bash\n",
    "$ python3 tagger.py  model.tsv < input.conllu | head \n",
    "# sent_id = 1\n",
    "# text = Русские соболя.\n",
    "1\tРусские\t-\tPROPN\t-\t-\t-\t-\t-\t-\n",
    "2\tсоболя\t-\tNOUN\t-\t-\t-\t-\t-\t-\n",
    "3\t.\t-\tPUNCT\t-\t-\t-\t-\t-\t-\n",
    "# sent_id = 2\n",
    "```              "
   ]
  },
  {
   "cell_type": "markdown",
   "metadata": {},
   "source": [
    "Let's look at the mistakes and count the accuracy:"
   ]
  },
  {
   "cell_type": "code",
   "execution_count": null,
   "metadata": {},
   "outputs": [],
   "source": [
    "with open('o_henry.conllu') as inp, open('output.conllu') as out:\n",
    "    mistakes = 0\n",
    "    word_tag_inp = [(line.split('\\t')[1], line.split('\\t')[3]) for line in inp if not line.startswith('#') and line != '\\n']\n",
    "    tags_out = [line.split('\\t')[3] for line in out if not line.startswith('#') and line != '\\n']\n",
    "    total = len(tags_out)\n",
    "    for i in range(total):\n",
    "        if word_tag_inp[i][1] != tags_out[i]:\n",
    "            mistakes +=1\n",
    "            print(word_tag_inp[i][0], tags_inp[i], tags_out[i], sep = '\\t')\n",
    "    print((total-mistakes)*100/total)"
   ]
  },
  {
   "cell_type": "raw",
   "metadata": {},
   "source": [
    "Молли\tVERB\tPROPN\n",
    "и\tPART\tCCONJ\n",
    "что\tPRON\tSCONJ\n",
    "Да\tCCONJ\tPART\n",
    "все\tPRON\tDET\n",
    "и\tPART\tCCONJ\n",
    "ни\tCCONJ\tPART\n",
    "Русские\tADJ\tPROPN\n",
    "что\tPRON\tSCONJ\n",
    "щеки\tADV\tNOUN\n",
    "да\tCCONJ\tPART\n",
    "хорошо\tADV\tADJ\n",
    "русских\tNOUN\tADJ\n",
    "все\tPART\tDET\n",
    "Рэнсом\tNOUN\tPROPN\n",
    "и\tPART\tCCONJ\n",
    "Рэнсом\tNOUN\tPROPN\n",
    "что\tPRON\tSCONJ\n",
    "все\tPRON\tDET\n",
    "что\tPRON\tSCONJ\n",
    "все\tPRON\tDET\n",
    "все\tPRON\tDET\n",
    "Малыша\tNOUN\tPROPN\n",
    "пусть\tPART\tSCONJ\n",
    "Малыша\tNOUN\tPROPN\n",
    "полицейский\tNOUN\tADJ\n",
    "полицейского\tNOUN\tADJ\n",
    "чем\tSCONJ\tPRON\n",
    "Малыша\tNOUN\tPROPN\n",
    "Малыша\tNOUN\tPROPN\n",
    "98.86749716874291"
   ]
  },
  {
   "cell_type": "markdown",
   "metadata": {},
   "source": [
    "1. Accuracy = 98.9 %\n",
    "2. We can see some mistakes in original tagging) for example, 'Молли' should be PROPN\n",
    "3. In the unigram model we can store such single-word features in the unigram model as Zaliznjak code, semantic class, etc"
   ]
  },
  {
   "cell_type": "code",
   "execution_count": null,
   "metadata": {},
   "outputs": [],
   "source": []
  }
 ],
 "metadata": {
  "kernelspec": {
   "display_name": "Python 3",
   "language": "python",
   "name": "python3"
  },
  "language_info": {
   "codemirror_mode": {
    "name": "ipython",
    "version": 3
   },
   "file_extension": ".py",
   "mimetype": "text/x-python",
   "name": "python",
   "nbconvert_exporter": "python",
   "pygments_lexer": "ipython3",
   "version": "3.7.2"
  }
 },
 "nbformat": 4,
 "nbformat_minor": 2
}
